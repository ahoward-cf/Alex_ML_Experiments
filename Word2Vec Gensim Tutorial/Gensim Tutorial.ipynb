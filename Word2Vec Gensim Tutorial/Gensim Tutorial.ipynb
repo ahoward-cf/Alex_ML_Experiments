{
 "cells": [
  {
   "cell_type": "markdown",
   "metadata": {},
   "source": [
    "# Gensim Word2Vec Tutorial\n",
    "#### From https://kavita-ganesan.com/gensim-word2vec-tutorial-starter-code/"
   ]
  },
  {
   "cell_type": "code",
   "execution_count": 1,
   "metadata": {},
   "outputs": [],
   "source": [
    "# intial imports \n",
    "\n",
    "import gzip\n",
    "import gensim\n",
    "import logging"
   ]
  },
  {
   "cell_type": "code",
   "execution_count": 3,
   "metadata": {},
   "outputs": [],
   "source": [
    "logging.basicConfig(format='%(asctime)s : %(levelname)s : %(message)s', level=logging.INFO)"
   ]
  },
  {
   "cell_type": "markdown",
   "metadata": {},
   "source": [
    "## Data set from OpinRank\n",
    "#### From kavita's PhD"
   ]
  },
  {
   "cell_type": "code",
   "execution_count": 6,
   "metadata": {},
   "outputs": [
    {
     "name": "stdout",
     "output_type": "stream",
     "text": [
      "b\"Oct 12 2009 \\tNice trendy hotel location not too bad.\\tI stayed in this hotel for one night. As this is a fairly new place some of the taxi drivers did not know where it was and/or did not want to drive there. Once I have eventually arrived at the hotel, I was very pleasantly surprised with the decor of the lobby/ground floor area. It was very stylish and modern. I found the reception's staff geeting me with 'Aloha' a bit out of place, but I guess they are briefed to say that to keep up the coroporate image.As I have a Starwood Preferred Guest member, I was given a small gift upon-check in. It was only a couple of fridge magnets in a gift box, but nevertheless a nice gesture.My room was nice and roomy, there are tea and coffee facilities in each room and you get two complimentary bottles of water plus some toiletries by 'bliss'.The location is not great. It is at the last metro stop and you then need to take a taxi, but if you are not planning on going to see the historic sites in Beijing, then you will be ok.I chose to have some breakfast in the hotel, which was really tasty and there was a good selection of dishes. There are a couple of computers to use in the communal area, as well as a pool table. There is also a small swimming pool and a gym area.I would definitely stay in this hotel again, but only if I did not plan to travel to central Beijing, as it can take a long time. The location is ok if you plan to do a lot of shopping, as there is a big shopping centre just few minutes away from the hotel and there are plenty of eating options around, including restaurants that serve a dog meat!\\t\\r\\n\"\n"
     ]
    }
   ],
   "source": [
    "# Taking a look at the file\n",
    "\n",
    "input_file = './reviews_data.txt.gz'\n",
    "\n",
    "with gzip.open (input_file, 'rb') as f:\n",
    "        for i,line in enumerate (f):\n",
    "            print(line)\n",
    "            break"
   ]
  },
  {
   "cell_type": "markdown",
   "metadata": {},
   "source": [
    "#### Read in the file"
   ]
  },
  {
   "cell_type": "code",
   "execution_count": 7,
   "metadata": {},
   "outputs": [],
   "source": [
    "def read_input(input_file):\n",
    "    \"\"\"This method reads the input file which is in gzip format\"\"\"\n",
    "\n",
    "    logging.info(\"reading file {0}...this may take a while\".format(input_file))\n",
    "    with gzip.open(input_file, 'rb') as f:\n",
    "        for i, line in enumerate(f):\n",
    "\n",
    "            if (i % 10000 == 0):\n",
    "                logging.info(\"read {0} reviews\".format(i))\n",
    "            # do some pre-processing and return list of words for each review\n",
    "            # text. Preprocessing includes tokenization, lowercase\n",
    "            yield gensim.utils.simple_preprocess(line)"
   ]
  },
  {
   "cell_type": "code",
   "execution_count": 8,
   "metadata": {},
   "outputs": [
    {
     "name": "stderr",
     "output_type": "stream",
     "text": [
      "2020-09-14 20:12:05,077 : INFO : reading file ./reviews_data.txt.gz...this may take a while\n",
      "2020-09-14 20:12:05,078 : INFO : read 0 reviews\n",
      "2020-09-14 20:12:06,726 : INFO : read 10000 reviews\n",
      "2020-09-14 20:12:08,358 : INFO : read 20000 reviews\n",
      "2020-09-14 20:12:10,248 : INFO : read 30000 reviews\n",
      "2020-09-14 20:12:12,075 : INFO : read 40000 reviews\n",
      "2020-09-14 20:12:14,150 : INFO : read 50000 reviews\n",
      "2020-09-14 20:12:16,204 : INFO : read 60000 reviews\n",
      "2020-09-14 20:12:18,013 : INFO : read 70000 reviews\n",
      "2020-09-14 20:12:19,478 : INFO : read 80000 reviews\n",
      "2020-09-14 20:12:21,028 : INFO : read 90000 reviews\n",
      "2020-09-14 20:12:22,555 : INFO : read 100000 reviews\n",
      "2020-09-14 20:12:24,031 : INFO : read 110000 reviews\n",
      "2020-09-14 20:12:25,523 : INFO : read 120000 reviews\n",
      "2020-09-14 20:12:27,062 : INFO : read 130000 reviews\n",
      "2020-09-14 20:12:28,720 : INFO : read 140000 reviews\n",
      "2020-09-14 20:12:30,256 : INFO : read 150000 reviews\n",
      "2020-09-14 20:12:32,213 : INFO : read 160000 reviews\n",
      "2020-09-14 20:12:33,734 : INFO : read 170000 reviews\n",
      "2020-09-14 20:12:35,342 : INFO : read 180000 reviews\n",
      "2020-09-14 20:12:36,893 : INFO : read 190000 reviews\n",
      "2020-09-14 20:12:38,598 : INFO : read 200000 reviews\n",
      "2020-09-14 20:12:40,214 : INFO : read 210000 reviews\n",
      "2020-09-14 20:12:41,850 : INFO : read 220000 reviews\n",
      "2020-09-14 20:12:43,332 : INFO : read 230000 reviews\n",
      "2020-09-14 20:12:44,889 : INFO : read 240000 reviews\n",
      "2020-09-14 20:12:46,435 : INFO : read 250000 reviews\n",
      "2020-09-14 20:12:47,912 : INFO : Complete\n"
     ]
    }
   ],
   "source": [
    "# read in the reviews\n",
    "documents = list(read_input(input_file))\n",
    "logging.info(\"Complete\")"
   ]
  },
  {
   "cell_type": "markdown",
   "metadata": {},
   "source": [
    "#### Train Word2Vec model"
   ]
  },
  {
   "cell_type": "code",
   "execution_count": 10,
   "metadata": {},
   "outputs": [
    {
     "name": "stderr",
     "output_type": "stream",
     "text": [
      "2020-09-14 20:19:30,409 : WARNING : consider setting layer size to a multiple of 4 for greater performance\n",
      "2020-09-14 20:19:30,417 : INFO : collecting all words and their counts\n",
      "2020-09-14 20:19:30,418 : INFO : PROGRESS: at sentence #0, processed 0 words, keeping 0 word types\n",
      "2020-09-14 20:19:30,693 : INFO : PROGRESS: at sentence #10000, processed 1655714 words, keeping 25777 word types\n",
      "2020-09-14 20:19:30,978 : INFO : PROGRESS: at sentence #20000, processed 3317863 words, keeping 35016 word types\n",
      "2020-09-14 20:19:31,306 : INFO : PROGRESS: at sentence #30000, processed 5264072 words, keeping 47518 word types\n",
      "2020-09-14 20:19:31,615 : INFO : PROGRESS: at sentence #40000, processed 7081746 words, keeping 56675 word types\n",
      "2020-09-14 20:19:31,959 : INFO : PROGRESS: at sentence #50000, processed 9089491 words, keeping 63744 word types\n",
      "2020-09-14 20:19:32,283 : INFO : PROGRESS: at sentence #60000, processed 11013726 words, keeping 76786 word types\n",
      "2020-09-14 20:19:32,567 : INFO : PROGRESS: at sentence #70000, processed 12637528 words, keeping 83199 word types\n",
      "2020-09-14 20:19:32,826 : INFO : PROGRESS: at sentence #80000, processed 14099754 words, keeping 88459 word types\n",
      "2020-09-14 20:19:33,098 : INFO : PROGRESS: at sentence #90000, processed 15662152 words, keeping 93357 word types\n",
      "2020-09-14 20:19:33,356 : INFO : PROGRESS: at sentence #100000, processed 17164490 words, keeping 97886 word types\n",
      "2020-09-14 20:19:33,613 : INFO : PROGRESS: at sentence #110000, processed 18652295 words, keeping 102132 word types\n",
      "2020-09-14 20:19:33,875 : INFO : PROGRESS: at sentence #120000, processed 20152532 words, keeping 105923 word types\n",
      "2020-09-14 20:19:34,140 : INFO : PROGRESS: at sentence #130000, processed 21684333 words, keeping 110104 word types\n",
      "2020-09-14 20:19:34,422 : INFO : PROGRESS: at sentence #140000, processed 23330209 words, keeping 114108 word types\n",
      "2020-09-14 20:19:34,686 : INFO : PROGRESS: at sentence #150000, processed 24838757 words, keeping 118174 word types\n",
      "2020-09-14 20:19:34,962 : INFO : PROGRESS: at sentence #160000, processed 26390913 words, keeping 118670 word types\n",
      "2020-09-14 20:19:35,228 : INFO : PROGRESS: at sentence #170000, processed 27913919 words, keeping 123356 word types\n",
      "2020-09-14 20:19:35,505 : INFO : PROGRESS: at sentence #180000, processed 29535615 words, keeping 126748 word types\n",
      "2020-09-14 20:19:35,776 : INFO : PROGRESS: at sentence #190000, processed 31096462 words, keeping 129847 word types\n",
      "2020-09-14 20:19:36,070 : INFO : PROGRESS: at sentence #200000, processed 32805274 words, keeping 133255 word types\n",
      "2020-09-14 20:19:36,346 : INFO : PROGRESS: at sentence #210000, processed 34434201 words, keeping 136364 word types\n",
      "2020-09-14 20:19:36,633 : INFO : PROGRESS: at sentence #220000, processed 36083485 words, keeping 139418 word types\n",
      "2020-09-14 20:19:36,891 : INFO : PROGRESS: at sentence #230000, processed 37571765 words, keeping 142399 word types\n",
      "2020-09-14 20:19:37,168 : INFO : PROGRESS: at sentence #240000, processed 39138193 words, keeping 145232 word types\n",
      "2020-09-14 20:19:37,440 : INFO : PROGRESS: at sentence #250000, processed 40695052 words, keeping 147966 word types\n",
      "2020-09-14 20:19:37,589 : INFO : collected 150059 word types from a corpus of 41519358 raw words and 255404 sentences\n",
      "2020-09-14 20:19:37,589 : INFO : Loading a fresh vocabulary\n",
      "2020-09-14 20:19:37,735 : INFO : effective_min_count=2 retains 70537 unique words (47% of original 150059, drops 79522)\n",
      "2020-09-14 20:19:37,736 : INFO : effective_min_count=2 leaves 41439836 word corpus (99% of original 41519358, drops 79522)\n",
      "2020-09-14 20:19:37,926 : INFO : deleting the raw counts dictionary of 150059 items\n",
      "2020-09-14 20:19:37,930 : INFO : sample=0.001 downsamples 55 most-common words\n",
      "2020-09-14 20:19:37,930 : INFO : downsampling leaves estimated 30349251 word corpus (73.2% of prior 41439836)\n",
      "2020-09-14 20:19:38,113 : INFO : estimated required memory for 70537 words and 150 dimensions: 119912900 bytes\n",
      "2020-09-14 20:19:38,114 : INFO : resetting layer weights\n",
      "2020-09-14 20:19:50,410 : INFO : training model with 4 workers on 70537 vocabulary and 150 features, using sg=0 hs=0 sample=0.001 negative=5 window=10\n",
      "2020-09-14 20:19:51,422 : INFO : EPOCH 1 - PROGRESS: at 3.57% examples, 1100839 words/s, in_qsize 7, out_qsize 0\n",
      "2020-09-14 20:19:52,426 : INFO : EPOCH 1 - PROGRESS: at 7.58% examples, 1163177 words/s, in_qsize 7, out_qsize 0\n",
      "2020-09-14 20:19:53,428 : INFO : EPOCH 1 - PROGRESS: at 11.08% examples, 1186712 words/s, in_qsize 7, out_qsize 0\n",
      "2020-09-14 20:19:54,432 : INFO : EPOCH 1 - PROGRESS: at 14.52% examples, 1194472 words/s, in_qsize 7, out_qsize 0\n",
      "2020-09-14 20:19:55,444 : INFO : EPOCH 1 - PROGRESS: at 17.98% examples, 1200796 words/s, in_qsize 7, out_qsize 0\n",
      "2020-09-14 20:19:56,448 : INFO : EPOCH 1 - PROGRESS: at 21.48% examples, 1205097 words/s, in_qsize 7, out_qsize 0\n",
      "2020-09-14 20:19:57,448 : INFO : EPOCH 1 - PROGRESS: at 24.67% examples, 1208609 words/s, in_qsize 7, out_qsize 0\n",
      "2020-09-14 20:19:58,455 : INFO : EPOCH 1 - PROGRESS: at 29.23% examples, 1210888 words/s, in_qsize 7, out_qsize 0\n",
      "2020-09-14 20:19:59,455 : INFO : EPOCH 1 - PROGRESS: at 33.62% examples, 1213236 words/s, in_qsize 7, out_qsize 0\n",
      "2020-09-14 20:20:00,458 : INFO : EPOCH 1 - PROGRESS: at 37.80% examples, 1212915 words/s, in_qsize 7, out_qsize 0\n",
      "2020-09-14 20:20:01,458 : INFO : EPOCH 1 - PROGRESS: at 42.02% examples, 1206782 words/s, in_qsize 7, out_qsize 0\n",
      "2020-09-14 20:20:02,460 : INFO : EPOCH 1 - PROGRESS: at 46.38% examples, 1207522 words/s, in_qsize 7, out_qsize 0\n",
      "2020-09-14 20:20:03,467 : INFO : EPOCH 1 - PROGRESS: at 50.63% examples, 1208166 words/s, in_qsize 7, out_qsize 0\n",
      "2020-09-14 20:20:04,474 : INFO : EPOCH 1 - PROGRESS: at 54.61% examples, 1208203 words/s, in_qsize 7, out_qsize 0\n",
      "2020-09-14 20:20:05,476 : INFO : EPOCH 1 - PROGRESS: at 58.91% examples, 1208794 words/s, in_qsize 7, out_qsize 0\n",
      "2020-09-14 20:20:06,478 : INFO : EPOCH 1 - PROGRESS: at 63.15% examples, 1209703 words/s, in_qsize 7, out_qsize 0\n",
      "2020-09-14 20:20:07,488 : INFO : EPOCH 1 - PROGRESS: at 67.45% examples, 1210423 words/s, in_qsize 7, out_qsize 0\n",
      "2020-09-14 20:20:08,498 : INFO : EPOCH 1 - PROGRESS: at 71.52% examples, 1211340 words/s, in_qsize 7, out_qsize 0\n",
      "2020-09-14 20:20:09,498 : INFO : EPOCH 1 - PROGRESS: at 75.64% examples, 1211704 words/s, in_qsize 7, out_qsize 0\n",
      "2020-09-14 20:20:10,503 : INFO : EPOCH 1 - PROGRESS: at 79.57% examples, 1212667 words/s, in_qsize 7, out_qsize 0\n",
      "2020-09-14 20:20:11,510 : INFO : EPOCH 1 - PROGRESS: at 83.67% examples, 1213821 words/s, in_qsize 7, out_qsize 0\n",
      "2020-09-14 20:20:12,515 : INFO : EPOCH 1 - PROGRESS: at 87.86% examples, 1214312 words/s, in_qsize 7, out_qsize 0\n",
      "2020-09-14 20:20:13,526 : INFO : EPOCH 1 - PROGRESS: at 92.23% examples, 1214942 words/s, in_qsize 7, out_qsize 0\n",
      "2020-09-14 20:20:14,528 : INFO : EPOCH 1 - PROGRESS: at 96.39% examples, 1215356 words/s, in_qsize 7, out_qsize 0\n",
      "2020-09-14 20:20:15,355 : INFO : worker thread finished; awaiting finish of 3 more threads\n",
      "2020-09-14 20:20:15,357 : INFO : worker thread finished; awaiting finish of 2 more threads\n",
      "2020-09-14 20:20:15,359 : INFO : worker thread finished; awaiting finish of 1 more threads\n",
      "2020-09-14 20:20:15,362 : INFO : worker thread finished; awaiting finish of 0 more threads\n",
      "2020-09-14 20:20:15,362 : INFO : EPOCH - 1 : training on 41519358 raw words (30350111 effective words) took 25.0s, 1216431 effective words/s\n",
      "2020-09-14 20:20:16,368 : INFO : EPOCH 2 - PROGRESS: at 3.92% examples, 1208827 words/s, in_qsize 7, out_qsize 0\n",
      "2020-09-14 20:20:17,370 : INFO : EPOCH 2 - PROGRESS: at 7.89% examples, 1219511 words/s, in_qsize 7, out_qsize 0\n",
      "2020-09-14 20:20:18,370 : INFO : EPOCH 2 - PROGRESS: at 11.36% examples, 1222413 words/s, in_qsize 7, out_qsize 0\n",
      "2020-09-14 20:20:19,374 : INFO : EPOCH 2 - PROGRESS: at 14.82% examples, 1225091 words/s, in_qsize 7, out_qsize 0\n",
      "2020-09-14 20:20:20,379 : INFO : EPOCH 2 - PROGRESS: at 18.26% examples, 1225386 words/s, in_qsize 7, out_qsize 0\n",
      "2020-09-14 20:20:21,381 : INFO : EPOCH 2 - PROGRESS: at 21.69% examples, 1222384 words/s, in_qsize 7, out_qsize 0\n",
      "2020-09-14 20:20:22,385 : INFO : EPOCH 2 - PROGRESS: at 24.99% examples, 1222907 words/s, in_qsize 7, out_qsize 0\n"
     ]
    },
    {
     "name": "stderr",
     "output_type": "stream",
     "text": [
      "2020-09-14 20:20:23,390 : INFO : EPOCH 2 - PROGRESS: at 29.53% examples, 1224192 words/s, in_qsize 7, out_qsize 0\n",
      "2020-09-14 20:20:24,391 : INFO : EPOCH 2 - PROGRESS: at 33.82% examples, 1223580 words/s, in_qsize 7, out_qsize 0\n",
      "2020-09-14 20:20:25,395 : INFO : EPOCH 2 - PROGRESS: at 38.16% examples, 1224019 words/s, in_qsize 7, out_qsize 0\n",
      "2020-09-14 20:20:26,395 : INFO : EPOCH 2 - PROGRESS: at 42.57% examples, 1224082 words/s, in_qsize 7, out_qsize 0\n",
      "2020-09-14 20:20:27,400 : INFO : EPOCH 2 - PROGRESS: at 46.94% examples, 1223191 words/s, in_qsize 7, out_qsize 0\n",
      "2020-09-14 20:20:28,401 : INFO : EPOCH 2 - PROGRESS: at 51.19% examples, 1223207 words/s, in_qsize 7, out_qsize 0\n",
      "2020-09-14 20:20:29,412 : INFO : EPOCH 2 - PROGRESS: at 55.34% examples, 1222929 words/s, in_qsize 7, out_qsize 0\n",
      "2020-09-14 20:20:30,412 : INFO : EPOCH 2 - PROGRESS: at 59.56% examples, 1222742 words/s, in_qsize 7, out_qsize 0\n",
      "2020-09-14 20:20:31,413 : INFO : EPOCH 2 - PROGRESS: at 63.96% examples, 1223609 words/s, in_qsize 7, out_qsize 0\n",
      "2020-09-14 20:20:32,419 : INFO : EPOCH 2 - PROGRESS: at 68.15% examples, 1223851 words/s, in_qsize 7, out_qsize 0\n",
      "2020-09-14 20:20:33,424 : INFO : EPOCH 2 - PROGRESS: at 72.12% examples, 1223599 words/s, in_qsize 7, out_qsize 0\n",
      "2020-09-14 20:20:34,427 : INFO : EPOCH 2 - PROGRESS: at 76.24% examples, 1223821 words/s, in_qsize 7, out_qsize 0\n",
      "2020-09-14 20:20:35,429 : INFO : EPOCH 2 - PROGRESS: at 80.16% examples, 1223722 words/s, in_qsize 7, out_qsize 0\n",
      "2020-09-14 20:20:36,431 : INFO : EPOCH 2 - PROGRESS: at 84.19% examples, 1223233 words/s, in_qsize 7, out_qsize 0\n",
      "2020-09-14 20:20:37,437 : INFO : EPOCH 2 - PROGRESS: at 88.32% examples, 1222237 words/s, in_qsize 7, out_qsize 0\n",
      "2020-09-14 20:20:38,437 : INFO : EPOCH 2 - PROGRESS: at 92.64% examples, 1222799 words/s, in_qsize 7, out_qsize 0\n",
      "2020-09-14 20:20:39,437 : INFO : EPOCH 2 - PROGRESS: at 96.82% examples, 1223002 words/s, in_qsize 7, out_qsize 0\n",
      "2020-09-14 20:20:40,159 : INFO : worker thread finished; awaiting finish of 3 more threads\n",
      "2020-09-14 20:20:40,162 : INFO : worker thread finished; awaiting finish of 2 more threads\n",
      "2020-09-14 20:20:40,167 : INFO : worker thread finished; awaiting finish of 1 more threads\n",
      "2020-09-14 20:20:40,168 : INFO : worker thread finished; awaiting finish of 0 more threads\n",
      "2020-09-14 20:20:40,168 : INFO : EPOCH - 2 : training on 41519358 raw words (30351858 effective words) took 24.8s, 1223704 effective words/s\n",
      "2020-09-14 20:20:41,177 : INFO : EPOCH 3 - PROGRESS: at 3.96% examples, 1218446 words/s, in_qsize 7, out_qsize 0\n",
      "2020-09-14 20:20:42,184 : INFO : EPOCH 3 - PROGRESS: at 7.95% examples, 1224265 words/s, in_qsize 7, out_qsize 0\n",
      "2020-09-14 20:20:43,187 : INFO : EPOCH 3 - PROGRESS: at 11.42% examples, 1227012 words/s, in_qsize 7, out_qsize 0\n",
      "2020-09-14 20:20:44,187 : INFO : EPOCH 3 - PROGRESS: at 14.87% examples, 1227666 words/s, in_qsize 7, out_qsize 0\n",
      "2020-09-14 20:20:45,188 : INFO : EPOCH 3 - PROGRESS: at 18.28% examples, 1225573 words/s, in_qsize 7, out_qsize 0\n",
      "2020-09-14 20:20:46,191 : INFO : EPOCH 3 - PROGRESS: at 21.77% examples, 1225864 words/s, in_qsize 7, out_qsize 0\n",
      "2020-09-14 20:20:47,195 : INFO : EPOCH 3 - PROGRESS: at 25.10% examples, 1225802 words/s, in_qsize 7, out_qsize 0\n",
      "2020-09-14 20:20:48,197 : INFO : EPOCH 3 - PROGRESS: at 29.61% examples, 1226492 words/s, in_qsize 7, out_qsize 0\n",
      "2020-09-14 20:20:49,200 : INFO : EPOCH 3 - PROGRESS: at 33.82% examples, 1222951 words/s, in_qsize 7, out_qsize 0\n",
      "2020-09-14 20:20:50,204 : INFO : EPOCH 3 - PROGRESS: at 38.06% examples, 1221369 words/s, in_qsize 7, out_qsize 0\n",
      "2020-09-14 20:20:51,206 : INFO : EPOCH 3 - PROGRESS: at 42.41% examples, 1218825 words/s, in_qsize 7, out_qsize 0\n",
      "2020-09-14 20:20:52,212 : INFO : EPOCH 3 - PROGRESS: at 46.81% examples, 1218801 words/s, in_qsize 7, out_qsize 0\n",
      "2020-09-14 20:20:53,216 : INFO : EPOCH 3 - PROGRESS: at 50.97% examples, 1216675 words/s, in_qsize 7, out_qsize 0\n",
      "2020-09-14 20:20:54,225 : INFO : EPOCH 3 - PROGRESS: at 55.00% examples, 1216483 words/s, in_qsize 7, out_qsize 0\n",
      "2020-09-14 20:20:55,232 : INFO : EPOCH 3 - PROGRESS: at 59.28% examples, 1216205 words/s, in_qsize 7, out_qsize 0\n",
      "2020-09-14 20:20:56,241 : INFO : EPOCH 3 - PROGRESS: at 63.62% examples, 1216464 words/s, in_qsize 7, out_qsize 0\n",
      "2020-09-14 20:20:57,246 : INFO : EPOCH 3 - PROGRESS: at 67.79% examples, 1215900 words/s, in_qsize 7, out_qsize 0\n",
      "2020-09-14 20:20:58,246 : INFO : EPOCH 3 - PROGRESS: at 71.73% examples, 1215948 words/s, in_qsize 7, out_qsize 0\n",
      "2020-09-14 20:20:59,252 : INFO : EPOCH 3 - PROGRESS: at 75.86% examples, 1215731 words/s, in_qsize 7, out_qsize 0\n",
      "2020-09-14 20:21:00,262 : INFO : EPOCH 3 - PROGRESS: at 79.76% examples, 1215448 words/s, in_qsize 7, out_qsize 0\n",
      "2020-09-14 20:21:01,263 : INFO : EPOCH 3 - PROGRESS: at 83.73% examples, 1215037 words/s, in_qsize 7, out_qsize 0\n",
      "2020-09-14 20:21:02,269 : INFO : EPOCH 3 - PROGRESS: at 87.91% examples, 1215123 words/s, in_qsize 7, out_qsize 0\n",
      "2020-09-14 20:21:03,270 : INFO : EPOCH 3 - PROGRESS: at 92.27% examples, 1215907 words/s, in_qsize 7, out_qsize 0\n",
      "2020-09-14 20:21:04,279 : INFO : EPOCH 3 - PROGRESS: at 96.44% examples, 1216271 words/s, in_qsize 7, out_qsize 0\n",
      "2020-09-14 20:21:05,097 : INFO : worker thread finished; awaiting finish of 3 more threads\n",
      "2020-09-14 20:21:05,098 : INFO : worker thread finished; awaiting finish of 2 more threads\n",
      "2020-09-14 20:21:05,102 : INFO : worker thread finished; awaiting finish of 1 more threads\n",
      "2020-09-14 20:21:05,102 : INFO : worker thread finished; awaiting finish of 0 more threads\n",
      "2020-09-14 20:21:05,103 : INFO : EPOCH - 3 : training on 41519358 raw words (30348145 effective words) took 24.9s, 1217218 effective words/s\n",
      "2020-09-14 20:21:06,109 : INFO : EPOCH 4 - PROGRESS: at 3.96% examples, 1222579 words/s, in_qsize 7, out_qsize 0\n",
      "2020-09-14 20:21:07,116 : INFO : EPOCH 4 - PROGRESS: at 7.93% examples, 1222189 words/s, in_qsize 7, out_qsize 0\n",
      "2020-09-14 20:21:08,116 : INFO : EPOCH 4 - PROGRESS: at 11.38% examples, 1222087 words/s, in_qsize 7, out_qsize 0\n",
      "2020-09-14 20:21:09,120 : INFO : EPOCH 4 - PROGRESS: at 14.80% examples, 1221024 words/s, in_qsize 7, out_qsize 0\n",
      "2020-09-14 20:21:10,122 : INFO : EPOCH 4 - PROGRESS: at 18.24% examples, 1222883 words/s, in_qsize 7, out_qsize 0\n",
      "2020-09-14 20:21:11,125 : INFO : EPOCH 4 - PROGRESS: at 21.74% examples, 1223854 words/s, in_qsize 7, out_qsize 0\n",
      "2020-09-14 20:21:12,128 : INFO : EPOCH 4 - PROGRESS: at 24.99% examples, 1222136 words/s, in_qsize 7, out_qsize 0\n",
      "2020-09-14 20:21:13,130 : INFO : EPOCH 4 - PROGRESS: at 29.48% examples, 1222344 words/s, in_qsize 7, out_qsize 0\n",
      "2020-09-14 20:21:14,132 : INFO : EPOCH 4 - PROGRESS: at 33.80% examples, 1222566 words/s, in_qsize 7, out_qsize 0\n",
      "2020-09-14 20:21:15,136 : INFO : EPOCH 4 - PROGRESS: at 38.06% examples, 1221699 words/s, in_qsize 7, out_qsize 0\n",
      "2020-09-14 20:21:16,142 : INFO : EPOCH 4 - PROGRESS: at 42.50% examples, 1221215 words/s, in_qsize 7, out_qsize 0\n",
      "2020-09-14 20:21:17,143 : INFO : EPOCH 4 - PROGRESS: at 46.89% examples, 1221437 words/s, in_qsize 7, out_qsize 0\n",
      "2020-09-14 20:21:18,143 : INFO : EPOCH 4 - PROGRESS: at 51.04% examples, 1218996 words/s, in_qsize 7, out_qsize 0\n",
      "2020-09-14 20:21:19,144 : INFO : EPOCH 4 - PROGRESS: at 55.10% examples, 1219342 words/s, in_qsize 7, out_qsize 0\n",
      "2020-09-14 20:21:20,149 : INFO : EPOCH 4 - PROGRESS: at 59.38% examples, 1219490 words/s, in_qsize 7, out_qsize 0\n",
      "2020-09-14 20:21:21,153 : INFO : EPOCH 4 - PROGRESS: at 63.73% examples, 1219896 words/s, in_qsize 7, out_qsize 0\n",
      "2020-09-14 20:21:22,154 : INFO : EPOCH 4 - PROGRESS: at 67.91% examples, 1219888 words/s, in_qsize 7, out_qsize 0\n",
      "2020-09-14 20:21:23,156 : INFO : EPOCH 4 - PROGRESS: at 71.88% examples, 1220399 words/s, in_qsize 7, out_qsize 0\n",
      "2020-09-14 20:21:24,160 : INFO : EPOCH 4 - PROGRESS: at 76.03% examples, 1220398 words/s, in_qsize 7, out_qsize 0\n",
      "2020-09-14 20:21:25,168 : INFO : EPOCH 4 - PROGRESS: at 79.89% examples, 1219276 words/s, in_qsize 7, out_qsize 0\n",
      "2020-09-14 20:21:26,174 : INFO : EPOCH 4 - PROGRESS: at 83.95% examples, 1219518 words/s, in_qsize 7, out_qsize 0\n",
      "2020-09-14 20:21:27,178 : INFO : EPOCH 4 - PROGRESS: at 88.14% examples, 1219761 words/s, in_qsize 7, out_qsize 0\n",
      "2020-09-14 20:21:28,180 : INFO : EPOCH 4 - PROGRESS: at 92.46% examples, 1220008 words/s, in_qsize 7, out_qsize 0\n"
     ]
    },
    {
     "name": "stderr",
     "output_type": "stream",
     "text": [
      "2020-09-14 20:21:29,183 : INFO : EPOCH 4 - PROGRESS: at 96.58% examples, 1219840 words/s, in_qsize 7, out_qsize 0\n",
      "2020-09-14 20:21:29,967 : INFO : worker thread finished; awaiting finish of 3 more threads\n",
      "2020-09-14 20:21:29,975 : INFO : worker thread finished; awaiting finish of 2 more threads\n",
      "2020-09-14 20:21:29,976 : INFO : worker thread finished; awaiting finish of 1 more threads\n",
      "2020-09-14 20:21:29,980 : INFO : worker thread finished; awaiting finish of 0 more threads\n",
      "2020-09-14 20:21:29,981 : INFO : EPOCH - 4 : training on 41519358 raw words (30347059 effective words) took 24.9s, 1219979 effective words/s\n",
      "2020-09-14 20:21:30,990 : INFO : EPOCH 5 - PROGRESS: at 3.94% examples, 1211382 words/s, in_qsize 7, out_qsize 0\n",
      "2020-09-14 20:21:31,997 : INFO : EPOCH 5 - PROGRESS: at 7.93% examples, 1220629 words/s, in_qsize 7, out_qsize 0\n",
      "2020-09-14 20:21:32,999 : INFO : EPOCH 5 - PROGRESS: at 11.39% examples, 1222358 words/s, in_qsize 7, out_qsize 0\n",
      "2020-09-14 20:21:34,001 : INFO : EPOCH 5 - PROGRESS: at 14.83% examples, 1223668 words/s, in_qsize 7, out_qsize 0\n",
      "2020-09-14 20:21:35,009 : INFO : EPOCH 5 - PROGRESS: at 18.30% examples, 1225029 words/s, in_qsize 7, out_qsize 0\n",
      "2020-09-14 20:21:36,010 : INFO : EPOCH 5 - PROGRESS: at 21.79% examples, 1225704 words/s, in_qsize 7, out_qsize 0\n",
      "2020-09-14 20:21:37,010 : INFO : EPOCH 5 - PROGRESS: at 25.16% examples, 1227332 words/s, in_qsize 7, out_qsize 0\n",
      "2020-09-14 20:21:38,010 : INFO : EPOCH 5 - PROGRESS: at 29.61% examples, 1226331 words/s, in_qsize 7, out_qsize 0\n",
      "2020-09-14 20:21:39,013 : INFO : EPOCH 5 - PROGRESS: at 33.91% examples, 1226078 words/s, in_qsize 7, out_qsize 0\n",
      "2020-09-14 20:21:40,013 : INFO : EPOCH 5 - PROGRESS: at 38.24% examples, 1225949 words/s, in_qsize 7, out_qsize 0\n",
      "2020-09-14 20:21:41,013 : INFO : EPOCH 5 - PROGRESS: at 42.57% examples, 1223924 words/s, in_qsize 7, out_qsize 0\n",
      "2020-09-14 20:21:42,022 : INFO : EPOCH 5 - PROGRESS: at 46.99% examples, 1223721 words/s, in_qsize 7, out_qsize 0\n",
      "2020-09-14 20:21:43,023 : INFO : EPOCH 5 - PROGRESS: at 51.24% examples, 1223709 words/s, in_qsize 7, out_qsize 0\n",
      "2020-09-14 20:21:44,026 : INFO : EPOCH 5 - PROGRESS: at 55.31% examples, 1222592 words/s, in_qsize 7, out_qsize 0\n",
      "2020-09-14 20:21:45,032 : INFO : EPOCH 5 - PROGRESS: at 59.58% examples, 1222442 words/s, in_qsize 7, out_qsize 0\n",
      "2020-09-14 20:21:46,041 : INFO : EPOCH 5 - PROGRESS: at 63.96% examples, 1222620 words/s, in_qsize 7, out_qsize 0\n",
      "2020-09-14 20:21:47,042 : INFO : EPOCH 5 - PROGRESS: at 68.11% examples, 1222802 words/s, in_qsize 7, out_qsize 0\n",
      "2020-09-14 20:21:48,046 : INFO : EPOCH 5 - PROGRESS: at 72.12% examples, 1223056 words/s, in_qsize 7, out_qsize 0\n",
      "2020-09-14 20:21:49,050 : INFO : EPOCH 5 - PROGRESS: at 76.24% examples, 1223243 words/s, in_qsize 7, out_qsize 0\n",
      "2020-09-14 20:21:50,054 : INFO : EPOCH 5 - PROGRESS: at 80.16% examples, 1223101 words/s, in_qsize 7, out_qsize 0\n",
      "2020-09-14 20:21:51,064 : INFO : EPOCH 5 - PROGRESS: at 84.23% examples, 1222895 words/s, in_qsize 7, out_qsize 0\n",
      "2020-09-14 20:21:52,072 : INFO : EPOCH 5 - PROGRESS: at 88.46% examples, 1222794 words/s, in_qsize 7, out_qsize 0\n",
      "2020-09-14 20:21:53,074 : INFO : EPOCH 5 - PROGRESS: at 92.75% examples, 1223236 words/s, in_qsize 7, out_qsize 0\n",
      "2020-09-14 20:21:54,075 : INFO : EPOCH 5 - PROGRESS: at 96.92% examples, 1223026 words/s, in_qsize 7, out_qsize 0\n",
      "2020-09-14 20:21:54,775 : INFO : worker thread finished; awaiting finish of 3 more threads\n",
      "2020-09-14 20:21:54,779 : INFO : worker thread finished; awaiting finish of 2 more threads\n",
      "2020-09-14 20:21:54,782 : INFO : worker thread finished; awaiting finish of 1 more threads\n",
      "2020-09-14 20:21:54,788 : INFO : worker thread finished; awaiting finish of 0 more threads\n",
      "2020-09-14 20:21:54,788 : INFO : EPOCH - 5 : training on 41519358 raw words (30348410 effective words) took 24.8s, 1223457 effective words/s\n",
      "2020-09-14 20:21:54,789 : INFO : training on a 207596790 raw words (151745583 effective words) took 124.4s, 1220032 effective words/s\n",
      "2020-09-14 20:21:54,789 : WARNING : Effective 'alpha' higher than previous training cycles\n",
      "2020-09-14 20:21:54,789 : INFO : training model with 4 workers on 70537 vocabulary and 150 features, using sg=0 hs=0 sample=0.001 negative=5 window=10\n",
      "2020-09-14 20:21:55,797 : INFO : EPOCH 1 - PROGRESS: at 3.90% examples, 1198061 words/s, in_qsize 7, out_qsize 0\n",
      "2020-09-14 20:21:56,798 : INFO : EPOCH 1 - PROGRESS: at 7.75% examples, 1195966 words/s, in_qsize 7, out_qsize 0\n",
      "2020-09-14 20:21:57,804 : INFO : EPOCH 1 - PROGRESS: at 11.27% examples, 1209356 words/s, in_qsize 7, out_qsize 0\n",
      "2020-09-14 20:21:58,807 : INFO : EPOCH 1 - PROGRESS: at 14.72% examples, 1211892 words/s, in_qsize 7, out_qsize 0\n",
      "2020-09-14 20:21:59,810 : INFO : EPOCH 1 - PROGRESS: at 18.13% examples, 1214008 words/s, in_qsize 7, out_qsize 0\n",
      "2020-09-14 20:22:00,816 : INFO : EPOCH 1 - PROGRESS: at 21.63% examples, 1216549 words/s, in_qsize 7, out_qsize 0\n",
      "2020-09-14 20:22:01,829 : INFO : EPOCH 1 - PROGRESS: at 24.91% examples, 1216299 words/s, in_qsize 7, out_qsize 0\n",
      "2020-09-14 20:22:02,830 : INFO : EPOCH 1 - PROGRESS: at 29.40% examples, 1217373 words/s, in_qsize 7, out_qsize 0\n",
      "2020-09-14 20:22:03,832 : INFO : EPOCH 1 - PROGRESS: at 33.73% examples, 1218052 words/s, in_qsize 7, out_qsize 0\n",
      "2020-09-14 20:22:04,835 : INFO : EPOCH 1 - PROGRESS: at 37.97% examples, 1217793 words/s, in_qsize 7, out_qsize 0\n",
      "2020-09-14 20:22:05,836 : INFO : EPOCH 1 - PROGRESS: at 42.43% examples, 1218266 words/s, in_qsize 7, out_qsize 0\n",
      "2020-09-14 20:22:06,836 : INFO : EPOCH 1 - PROGRESS: at 46.83% examples, 1218744 words/s, in_qsize 7, out_qsize 0\n",
      "2020-09-14 20:22:07,840 : INFO : EPOCH 1 - PROGRESS: at 51.10% examples, 1219377 words/s, in_qsize 7, out_qsize 0\n",
      "2020-09-14 20:22:08,843 : INFO : EPOCH 1 - PROGRESS: at 55.23% examples, 1220130 words/s, in_qsize 7, out_qsize 0\n",
      "2020-09-14 20:22:09,845 : INFO : EPOCH 1 - PROGRESS: at 59.49% examples, 1220524 words/s, in_qsize 7, out_qsize 0\n",
      "2020-09-14 20:22:10,848 : INFO : EPOCH 1 - PROGRESS: at 63.81% examples, 1220442 words/s, in_qsize 7, out_qsize 0\n",
      "2020-09-14 20:22:11,848 : INFO : EPOCH 1 - PROGRESS: at 68.00% examples, 1220864 words/s, in_qsize 7, out_qsize 0\n",
      "2020-09-14 20:22:12,856 : INFO : EPOCH 1 - PROGRESS: at 71.88% examples, 1219426 words/s, in_qsize 7, out_qsize 0\n",
      "2020-09-14 20:22:13,864 : INFO : EPOCH 1 - PROGRESS: at 76.07% examples, 1219921 words/s, in_qsize 7, out_qsize 0\n",
      "2020-09-14 20:22:14,869 : INFO : EPOCH 1 - PROGRESS: at 80.00% examples, 1220168 words/s, in_qsize 7, out_qsize 0\n",
      "2020-09-14 20:22:15,869 : INFO : EPOCH 1 - PROGRESS: at 84.04% examples, 1220299 words/s, in_qsize 7, out_qsize 0\n",
      "2020-09-14 20:22:16,873 : INFO : EPOCH 1 - PROGRESS: at 88.24% examples, 1220519 words/s, in_qsize 7, out_qsize 0\n",
      "2020-09-14 20:22:17,879 : INFO : EPOCH 1 - PROGRESS: at 92.57% examples, 1220839 words/s, in_qsize 7, out_qsize 0\n",
      "2020-09-14 20:22:18,882 : INFO : EPOCH 1 - PROGRESS: at 96.77% examples, 1221236 words/s, in_qsize 7, out_qsize 0\n",
      "2020-09-14 20:22:19,622 : INFO : worker thread finished; awaiting finish of 3 more threads\n",
      "2020-09-14 20:22:19,626 : INFO : worker thread finished; awaiting finish of 2 more threads\n",
      "2020-09-14 20:22:19,627 : INFO : worker thread finished; awaiting finish of 1 more threads\n",
      "2020-09-14 20:22:19,628 : INFO : worker thread finished; awaiting finish of 0 more threads\n",
      "2020-09-14 20:22:19,628 : INFO : EPOCH - 1 : training on 41519358 raw words (30345859 effective words) took 24.8s, 1221839 effective words/s\n",
      "2020-09-14 20:22:20,632 : INFO : EPOCH 2 - PROGRESS: at 3.94% examples, 1217073 words/s, in_qsize 7, out_qsize 0\n",
      "2020-09-14 20:22:21,639 : INFO : EPOCH 2 - PROGRESS: at 7.93% examples, 1223778 words/s, in_qsize 7, out_qsize 0\n",
      "2020-09-14 20:22:22,644 : INFO : EPOCH 2 - PROGRESS: at 11.39% examples, 1223320 words/s, in_qsize 7, out_qsize 0\n",
      "2020-09-14 20:22:23,645 : INFO : EPOCH 2 - PROGRESS: at 14.85% examples, 1226524 words/s, in_qsize 7, out_qsize 0\n",
      "2020-09-14 20:22:24,648 : INFO : EPOCH 2 - PROGRESS: at 18.28% examples, 1225650 words/s, in_qsize 7, out_qsize 0\n",
      "2020-09-14 20:22:25,656 : INFO : EPOCH 2 - PROGRESS: at 21.74% examples, 1222409 words/s, in_qsize 7, out_qsize 0\n",
      "2020-09-14 20:22:26,658 : INFO : EPOCH 2 - PROGRESS: at 25.05% examples, 1223245 words/s, in_qsize 7, out_qsize 0\n"
     ]
    },
    {
     "name": "stderr",
     "output_type": "stream",
     "text": [
      "2020-09-14 20:22:27,660 : INFO : EPOCH 2 - PROGRESS: at 29.50% examples, 1222514 words/s, in_qsize 7, out_qsize 0\n",
      "2020-09-14 20:22:28,661 : INFO : EPOCH 2 - PROGRESS: at 33.73% examples, 1219738 words/s, in_qsize 7, out_qsize 0\n",
      "2020-09-14 20:22:29,663 : INFO : EPOCH 2 - PROGRESS: at 37.91% examples, 1217283 words/s, in_qsize 7, out_qsize 0\n",
      "2020-09-14 20:22:30,667 : INFO : EPOCH 2 - PROGRESS: at 42.37% examples, 1217506 words/s, in_qsize 7, out_qsize 0\n",
      "2020-09-14 20:22:31,668 : INFO : EPOCH 2 - PROGRESS: at 46.79% examples, 1218578 words/s, in_qsize 7, out_qsize 0\n",
      "2020-09-14 20:22:32,675 : INFO : EPOCH 2 - PROGRESS: at 51.06% examples, 1218983 words/s, in_qsize 7, out_qsize 0\n",
      "2020-09-14 20:22:33,686 : INFO : EPOCH 2 - PROGRESS: at 55.14% examples, 1218454 words/s, in_qsize 7, out_qsize 0\n",
      "2020-09-14 20:22:34,689 : INFO : EPOCH 2 - PROGRESS: at 59.47% examples, 1219797 words/s, in_qsize 7, out_qsize 0\n",
      "2020-09-14 20:22:35,691 : INFO : EPOCH 2 - PROGRESS: at 63.75% examples, 1219412 words/s, in_qsize 7, out_qsize 0\n",
      "2020-09-14 20:22:36,697 : INFO : EPOCH 2 - PROGRESS: at 68.00% examples, 1220330 words/s, in_qsize 7, out_qsize 0\n",
      "2020-09-14 20:22:37,698 : INFO : EPOCH 2 - PROGRESS: at 71.97% examples, 1220508 words/s, in_qsize 7, out_qsize 0\n",
      "2020-09-14 20:22:38,703 : INFO : EPOCH 2 - PROGRESS: at 76.03% examples, 1219214 words/s, in_qsize 7, out_qsize 0\n",
      "2020-09-14 20:22:39,707 : INFO : EPOCH 2 - PROGRESS: at 79.82% examples, 1217375 words/s, in_qsize 7, out_qsize 0\n",
      "2020-09-14 20:22:40,708 : INFO : EPOCH 2 - PROGRESS: at 83.78% examples, 1216573 words/s, in_qsize 7, out_qsize 0\n",
      "2020-09-14 20:22:41,712 : INFO : EPOCH 2 - PROGRESS: at 87.89% examples, 1215721 words/s, in_qsize 7, out_qsize 0\n",
      "2020-09-14 20:22:42,713 : INFO : EPOCH 2 - PROGRESS: at 92.13% examples, 1215242 words/s, in_qsize 7, out_qsize 0\n",
      "2020-09-14 20:22:43,720 : INFO : EPOCH 2 - PROGRESS: at 96.23% examples, 1215082 words/s, in_qsize 7, out_qsize 0\n",
      "2020-09-14 20:22:44,626 : INFO : worker thread finished; awaiting finish of 3 more threads\n",
      "2020-09-14 20:22:44,628 : INFO : worker thread finished; awaiting finish of 2 more threads\n",
      "2020-09-14 20:22:44,630 : INFO : worker thread finished; awaiting finish of 1 more threads\n",
      "2020-09-14 20:22:44,635 : INFO : worker thread finished; awaiting finish of 0 more threads\n",
      "2020-09-14 20:22:44,635 : INFO : EPOCH - 2 : training on 41519358 raw words (30347450 effective words) took 25.0s, 1213674 effective words/s\n",
      "2020-09-14 20:22:45,642 : INFO : EPOCH 3 - PROGRESS: at 3.75% examples, 1157985 words/s, in_qsize 7, out_qsize 0\n",
      "2020-09-14 20:22:46,647 : INFO : EPOCH 3 - PROGRESS: at 7.66% examples, 1180582 words/s, in_qsize 7, out_qsize 0\n",
      "2020-09-14 20:22:47,650 : INFO : EPOCH 3 - PROGRESS: at 10.88% examples, 1164703 words/s, in_qsize 7, out_qsize 0\n",
      "2020-09-14 20:22:48,651 : INFO : EPOCH 3 - PROGRESS: at 14.20% examples, 1169738 words/s, in_qsize 7, out_qsize 0\n",
      "2020-09-14 20:22:49,655 : INFO : EPOCH 3 - PROGRESS: at 17.62% examples, 1177235 words/s, in_qsize 7, out_qsize 0\n",
      "2020-09-14 20:22:50,660 : INFO : EPOCH 3 - PROGRESS: at 20.77% examples, 1181866 words/s, in_qsize 7, out_qsize 0\n",
      "2020-09-14 20:22:51,661 : INFO : EPOCH 3 - PROGRESS: at 24.20% examples, 1185985 words/s, in_qsize 7, out_qsize 0\n",
      "2020-09-14 20:22:52,667 : INFO : EPOCH 3 - PROGRESS: at 28.58% examples, 1190199 words/s, in_qsize 7, out_qsize 0\n",
      "2020-09-14 20:22:53,667 : INFO : EPOCH 3 - PROGRESS: at 33.00% examples, 1193199 words/s, in_qsize 7, out_qsize 0\n",
      "2020-09-14 20:22:54,677 : INFO : EPOCH 3 - PROGRESS: at 37.16% examples, 1195464 words/s, in_qsize 7, out_qsize 0\n",
      "2020-09-14 20:22:55,678 : INFO : EPOCH 3 - PROGRESS: at 41.63% examples, 1197457 words/s, in_qsize 7, out_qsize 0\n",
      "2020-09-14 20:22:56,678 : INFO : EPOCH 3 - PROGRESS: at 46.03% examples, 1199085 words/s, in_qsize 7, out_qsize 0\n",
      "2020-09-14 20:22:57,685 : INFO : EPOCH 3 - PROGRESS: at 50.27% examples, 1200858 words/s, in_qsize 7, out_qsize 0\n",
      "2020-09-14 20:22:58,686 : INFO : EPOCH 3 - PROGRESS: at 54.24% examples, 1201338 words/s, in_qsize 7, out_qsize 0\n",
      "2020-09-14 20:22:59,698 : INFO : EPOCH 3 - PROGRESS: at 58.54% examples, 1202265 words/s, in_qsize 7, out_qsize 0\n",
      "2020-09-14 20:23:00,701 : INFO : EPOCH 3 - PROGRESS: at 62.52% examples, 1198928 words/s, in_qsize 7, out_qsize 0\n",
      "2020-09-14 20:23:01,701 : INFO : EPOCH 3 - PROGRESS: at 66.71% examples, 1198547 words/s, in_qsize 7, out_qsize 0\n",
      "2020-09-14 20:23:02,708 : INFO : EPOCH 3 - PROGRESS: at 70.51% examples, 1195490 words/s, in_qsize 7, out_qsize 0\n",
      "2020-09-14 20:23:03,710 : INFO : EPOCH 3 - PROGRESS: at 74.56% examples, 1194583 words/s, in_qsize 7, out_qsize 0\n",
      "2020-09-14 20:23:04,712 : INFO : EPOCH 3 - PROGRESS: at 78.33% examples, 1194854 words/s, in_qsize 7, out_qsize 0\n",
      "2020-09-14 20:23:05,715 : INFO : EPOCH 3 - PROGRESS: at 82.28% examples, 1195021 words/s, in_qsize 7, out_qsize 0\n",
      "2020-09-14 20:23:06,719 : INFO : EPOCH 3 - PROGRESS: at 86.11% examples, 1194092 words/s, in_qsize 7, out_qsize 0\n",
      "2020-09-14 20:23:07,720 : INFO : EPOCH 3 - PROGRESS: at 90.52% examples, 1195522 words/s, in_qsize 7, out_qsize 0\n",
      "2020-09-14 20:23:08,724 : INFO : EPOCH 3 - PROGRESS: at 94.49% examples, 1193924 words/s, in_qsize 7, out_qsize 0\n",
      "2020-09-14 20:23:09,733 : INFO : EPOCH 3 - PROGRESS: at 98.56% examples, 1193024 words/s, in_qsize 7, out_qsize 0\n",
      "2020-09-14 20:23:10,047 : INFO : worker thread finished; awaiting finish of 3 more threads\n",
      "2020-09-14 20:23:10,050 : INFO : worker thread finished; awaiting finish of 2 more threads\n",
      "2020-09-14 20:23:10,054 : INFO : worker thread finished; awaiting finish of 1 more threads\n",
      "2020-09-14 20:23:10,062 : INFO : worker thread finished; awaiting finish of 0 more threads\n",
      "2020-09-14 20:23:10,063 : INFO : EPOCH - 3 : training on 41519358 raw words (30347379 effective words) took 25.4s, 1193601 effective words/s\n",
      "2020-09-14 20:23:11,067 : INFO : EPOCH 4 - PROGRESS: at 3.79% examples, 1175764 words/s, in_qsize 7, out_qsize 0\n",
      "2020-09-14 20:23:12,074 : INFO : EPOCH 4 - PROGRESS: at 7.59% examples, 1170542 words/s, in_qsize 7, out_qsize 0\n",
      "2020-09-14 20:23:13,077 : INFO : EPOCH 4 - PROGRESS: at 10.97% examples, 1174595 words/s, in_qsize 7, out_qsize 0\n",
      "2020-09-14 20:23:14,088 : INFO : EPOCH 4 - PROGRESS: at 14.31% examples, 1177836 words/s, in_qsize 7, out_qsize 0\n",
      "2020-09-14 20:23:15,092 : INFO : EPOCH 4 - PROGRESS: at 17.66% examples, 1179567 words/s, in_qsize 7, out_qsize 0\n",
      "2020-09-14 20:23:16,093 : INFO : EPOCH 4 - PROGRESS: at 20.75% examples, 1179935 words/s, in_qsize 7, out_qsize 0\n",
      "2020-09-14 20:23:17,102 : INFO : EPOCH 4 - PROGRESS: at 24.02% examples, 1175009 words/s, in_qsize 7, out_qsize 0\n",
      "2020-09-14 20:23:18,108 : INFO : EPOCH 4 - PROGRESS: at 28.24% examples, 1176139 words/s, in_qsize 7, out_qsize 0\n",
      "2020-09-14 20:23:19,108 : INFO : EPOCH 4 - PROGRESS: at 32.49% examples, 1176764 words/s, in_qsize 7, out_qsize 0\n",
      "2020-09-14 20:23:20,111 : INFO : EPOCH 4 - PROGRESS: at 36.62% examples, 1177882 words/s, in_qsize 7, out_qsize 0\n",
      "2020-09-14 20:23:21,116 : INFO : EPOCH 4 - PROGRESS: at 40.81% examples, 1179011 words/s, in_qsize 7, out_qsize 0\n",
      "2020-09-14 20:23:22,118 : INFO : EPOCH 4 - PROGRESS: at 45.25% examples, 1180228 words/s, in_qsize 7, out_qsize 0\n",
      "2020-09-14 20:23:23,118 : INFO : EPOCH 4 - PROGRESS: at 49.34% examples, 1179749 words/s, in_qsize 7, out_qsize 0\n",
      "2020-09-14 20:23:24,122 : INFO : EPOCH 4 - PROGRESS: at 53.25% examples, 1180384 words/s, in_qsize 7, out_qsize 0\n",
      "2020-09-14 20:23:25,122 : INFO : EPOCH 4 - PROGRESS: at 57.41% examples, 1180314 words/s, in_qsize 7, out_qsize 0\n",
      "2020-09-14 20:23:26,129 : INFO : EPOCH 4 - PROGRESS: at 61.45% examples, 1179761 words/s, in_qsize 7, out_qsize 0\n",
      "2020-09-14 20:23:27,138 : INFO : EPOCH 4 - PROGRESS: at 65.67% examples, 1179758 words/s, in_qsize 7, out_qsize 0\n",
      "2020-09-14 20:23:28,146 : INFO : EPOCH 4 - PROGRESS: at 69.68% examples, 1180698 words/s, in_qsize 7, out_qsize 0\n",
      "2020-09-14 20:23:29,154 : INFO : EPOCH 4 - PROGRESS: at 73.75% examples, 1180709 words/s, in_qsize 7, out_qsize 0\n",
      "2020-09-14 20:23:30,158 : INFO : EPOCH 4 - PROGRESS: at 77.50% examples, 1181214 words/s, in_qsize 7, out_qsize 0\n",
      "2020-09-14 20:23:31,160 : INFO : EPOCH 4 - PROGRESS: at 81.32% examples, 1181027 words/s, in_qsize 7, out_qsize 0\n",
      "2020-09-14 20:23:32,166 : INFO : EPOCH 4 - PROGRESS: at 85.11% examples, 1179997 words/s, in_qsize 7, out_qsize 0\n"
     ]
    },
    {
     "name": "stderr",
     "output_type": "stream",
     "text": [
      "2020-09-14 20:23:33,176 : INFO : EPOCH 4 - PROGRESS: at 89.21% examples, 1178064 words/s, in_qsize 7, out_qsize 0\n",
      "2020-09-14 20:23:34,178 : INFO : EPOCH 4 - PROGRESS: at 93.22% examples, 1177840 words/s, in_qsize 7, out_qsize 0\n",
      "2020-09-14 20:23:35,179 : INFO : EPOCH 4 - PROGRESS: at 97.17% examples, 1176327 words/s, in_qsize 7, out_qsize 0\n",
      "2020-09-14 20:23:35,852 : INFO : worker thread finished; awaiting finish of 3 more threads\n",
      "2020-09-14 20:23:35,859 : INFO : worker thread finished; awaiting finish of 2 more threads\n",
      "2020-09-14 20:23:35,860 : INFO : worker thread finished; awaiting finish of 1 more threads\n",
      "2020-09-14 20:23:35,862 : INFO : worker thread finished; awaiting finish of 0 more threads\n",
      "2020-09-14 20:23:35,862 : INFO : EPOCH - 4 : training on 41519358 raw words (30351140 effective words) took 25.8s, 1176596 effective words/s\n",
      "2020-09-14 20:23:36,872 : INFO : EPOCH 5 - PROGRESS: at 3.82% examples, 1174530 words/s, in_qsize 7, out_qsize 0\n",
      "2020-09-14 20:23:37,872 : INFO : EPOCH 5 - PROGRESS: at 7.68% examples, 1184788 words/s, in_qsize 7, out_qsize 0\n",
      "2020-09-14 20:23:38,875 : INFO : EPOCH 5 - PROGRESS: at 11.08% examples, 1188967 words/s, in_qsize 7, out_qsize 0\n",
      "2020-09-14 20:23:39,877 : INFO : EPOCH 5 - PROGRESS: at 14.41% examples, 1187631 words/s, in_qsize 7, out_qsize 0\n",
      "2020-09-14 20:23:40,880 : INFO : EPOCH 5 - PROGRESS: at 17.74% examples, 1188831 words/s, in_qsize 7, out_qsize 0\n",
      "2020-09-14 20:23:41,884 : INFO : EPOCH 5 - PROGRESS: at 20.84% examples, 1187125 words/s, in_qsize 7, out_qsize 0\n",
      "2020-09-14 20:23:42,885 : INFO : EPOCH 5 - PROGRESS: at 24.22% examples, 1187341 words/s, in_qsize 7, out_qsize 0\n",
      "2020-09-14 20:23:43,887 : INFO : EPOCH 5 - PROGRESS: at 28.46% examples, 1186650 words/s, in_qsize 7, out_qsize 0\n",
      "2020-09-14 20:23:44,891 : INFO : EPOCH 5 - PROGRESS: at 32.71% examples, 1185674 words/s, in_qsize 7, out_qsize 0\n",
      "2020-09-14 20:23:45,893 : INFO : EPOCH 5 - PROGRESS: at 36.80% examples, 1185374 words/s, in_qsize 7, out_qsize 0\n",
      "2020-09-14 20:23:46,902 : INFO : EPOCH 5 - PROGRESS: at 41.10% examples, 1186088 words/s, in_qsize 7, out_qsize 0\n",
      "2020-09-14 20:23:47,915 : INFO : EPOCH 5 - PROGRESS: at 45.58% examples, 1187405 words/s, in_qsize 7, out_qsize 0\n",
      "2020-09-14 20:23:48,920 : INFO : EPOCH 5 - PROGRESS: at 49.68% examples, 1187644 words/s, in_qsize 7, out_qsize 0\n",
      "2020-09-14 20:23:49,925 : INFO : EPOCH 5 - PROGRESS: at 53.70% examples, 1189074 words/s, in_qsize 7, out_qsize 0\n",
      "2020-09-14 20:23:50,927 : INFO : EPOCH 5 - PROGRESS: at 57.93% examples, 1190147 words/s, in_qsize 7, out_qsize 0\n",
      "2020-09-14 20:23:51,933 : INFO : EPOCH 5 - PROGRESS: at 62.10% examples, 1191363 words/s, in_qsize 7, out_qsize 0\n",
      "2020-09-14 20:23:52,935 : INFO : EPOCH 5 - PROGRESS: at 66.35% examples, 1191803 words/s, in_qsize 7, out_qsize 0\n",
      "2020-09-14 20:23:53,941 : INFO : EPOCH 5 - PROGRESS: at 70.27% examples, 1191451 words/s, in_qsize 7, out_qsize 0\n",
      "2020-09-14 20:23:54,947 : INFO : EPOCH 5 - PROGRESS: at 74.45% examples, 1192135 words/s, in_qsize 7, out_qsize 0\n",
      "2020-09-14 20:23:55,948 : INFO : EPOCH 5 - PROGRESS: at 78.19% examples, 1192188 words/s, in_qsize 7, out_qsize 0\n",
      "2020-09-14 20:23:56,950 : INFO : EPOCH 5 - PROGRESS: at 82.16% examples, 1192922 words/s, in_qsize 7, out_qsize 0\n",
      "2020-09-14 20:23:57,956 : INFO : EPOCH 5 - PROGRESS: at 86.11% examples, 1193569 words/s, in_qsize 7, out_qsize 0\n",
      "2020-09-14 20:23:58,961 : INFO : EPOCH 5 - PROGRESS: at 90.44% examples, 1193902 words/s, in_qsize 7, out_qsize 0\n",
      "2020-09-14 20:23:59,967 : INFO : EPOCH 5 - PROGRESS: at 94.64% examples, 1194928 words/s, in_qsize 7, out_qsize 0\n",
      "2020-09-14 20:24:00,976 : INFO : EPOCH 5 - PROGRESS: at 98.89% examples, 1195718 words/s, in_qsize 7, out_qsize 0\n",
      "2020-09-14 20:24:01,232 : INFO : worker thread finished; awaiting finish of 3 more threads\n",
      "2020-09-14 20:24:01,236 : INFO : worker thread finished; awaiting finish of 2 more threads\n",
      "2020-09-14 20:24:01,239 : INFO : worker thread finished; awaiting finish of 1 more threads\n",
      "2020-09-14 20:24:01,244 : INFO : worker thread finished; awaiting finish of 0 more threads\n",
      "2020-09-14 20:24:01,244 : INFO : EPOCH - 5 : training on 41519358 raw words (30347679 effective words) took 25.4s, 1195726 effective words/s\n",
      "2020-09-14 20:24:02,250 : INFO : EPOCH 6 - PROGRESS: at 3.77% examples, 1164739 words/s, in_qsize 7, out_qsize 0\n",
      "2020-09-14 20:24:03,250 : INFO : EPOCH 6 - PROGRESS: at 7.59% examples, 1172726 words/s, in_qsize 7, out_qsize 0\n",
      "2020-09-14 20:24:04,256 : INFO : EPOCH 6 - PROGRESS: at 11.05% examples, 1184108 words/s, in_qsize 7, out_qsize 0\n",
      "2020-09-14 20:24:05,256 : INFO : EPOCH 6 - PROGRESS: at 14.31% examples, 1181337 words/s, in_qsize 7, out_qsize 0\n",
      "2020-09-14 20:24:06,263 : INFO : EPOCH 6 - PROGRESS: at 17.72% examples, 1187485 words/s, in_qsize 7, out_qsize 0\n",
      "2020-09-14 20:24:07,264 : INFO : EPOCH 6 - PROGRESS: at 20.89% examples, 1191374 words/s, in_qsize 7, out_qsize 0\n",
      "2020-09-14 20:24:08,267 : INFO : EPOCH 6 - PROGRESS: at 24.34% examples, 1193746 words/s, in_qsize 7, out_qsize 0\n",
      "2020-09-14 20:24:09,272 : INFO : EPOCH 6 - PROGRESS: at 28.74% examples, 1196351 words/s, in_qsize 7, out_qsize 0\n",
      "2020-09-14 20:24:10,272 : INFO : EPOCH 6 - PROGRESS: at 33.05% examples, 1196265 words/s, in_qsize 7, out_qsize 0\n",
      "2020-09-14 20:24:11,275 : INFO : EPOCH 6 - PROGRESS: at 37.12% examples, 1195550 words/s, in_qsize 7, out_qsize 0\n",
      "2020-09-14 20:24:12,279 : INFO : EPOCH 6 - PROGRESS: at 41.53% examples, 1196366 words/s, in_qsize 7, out_qsize 0\n",
      "2020-09-14 20:24:13,282 : INFO : EPOCH 6 - PROGRESS: at 45.93% examples, 1197208 words/s, in_qsize 7, out_qsize 0\n",
      "2020-09-14 20:24:14,283 : INFO : EPOCH 6 - PROGRESS: at 50.03% examples, 1196449 words/s, in_qsize 7, out_qsize 0\n",
      "2020-09-14 20:24:15,286 : INFO : EPOCH 6 - PROGRESS: at 54.07% examples, 1198558 words/s, in_qsize 7, out_qsize 0\n",
      "2020-09-14 20:24:16,292 : INFO : EPOCH 6 - PROGRESS: at 58.33% examples, 1199643 words/s, in_qsize 7, out_qsize 0\n",
      "2020-09-14 20:24:17,304 : INFO : EPOCH 6 - PROGRESS: at 62.62% examples, 1201098 words/s, in_qsize 7, out_qsize 0\n",
      "2020-09-14 20:24:18,309 : INFO : EPOCH 6 - PROGRESS: at 66.84% examples, 1201162 words/s, in_qsize 7, out_qsize 0\n",
      "2020-09-14 20:24:19,309 : INFO : EPOCH 6 - PROGRESS: at 70.81% examples, 1201268 words/s, in_qsize 7, out_qsize 0\n",
      "2020-09-14 20:24:20,318 : INFO : EPOCH 6 - PROGRESS: at 75.00% examples, 1201883 words/s, in_qsize 7, out_qsize 0\n",
      "2020-09-14 20:24:21,325 : INFO : EPOCH 6 - PROGRESS: at 78.80% examples, 1201854 words/s, in_qsize 7, out_qsize 0\n",
      "2020-09-14 20:24:22,331 : INFO : EPOCH 6 - PROGRESS: at 82.82% examples, 1202283 words/s, in_qsize 7, out_qsize 0\n",
      "2020-09-14 20:24:23,333 : INFO : EPOCH 6 - PROGRESS: at 86.84% examples, 1202767 words/s, in_qsize 7, out_qsize 0\n",
      "2020-09-14 20:24:24,334 : INFO : EPOCH 6 - PROGRESS: at 91.03% examples, 1201656 words/s, in_qsize 7, out_qsize 0\n",
      "2020-09-14 20:24:25,340 : INFO : EPOCH 6 - PROGRESS: at 95.17% examples, 1201771 words/s, in_qsize 7, out_qsize 0\n",
      "2020-09-14 20:24:26,342 : INFO : EPOCH 6 - PROGRESS: at 99.30% examples, 1201491 words/s, in_qsize 7, out_qsize 0\n",
      "2020-09-14 20:24:26,495 : INFO : worker thread finished; awaiting finish of 3 more threads\n",
      "2020-09-14 20:24:26,498 : INFO : worker thread finished; awaiting finish of 2 more threads\n",
      "2020-09-14 20:24:26,498 : INFO : worker thread finished; awaiting finish of 1 more threads\n",
      "2020-09-14 20:24:26,503 : INFO : worker thread finished; awaiting finish of 0 more threads\n",
      "2020-09-14 20:24:26,503 : INFO : EPOCH - 6 : training on 41519358 raw words (30349839 effective words) took 25.3s, 1201649 effective words/s\n",
      "2020-09-14 20:24:27,507 : INFO : EPOCH 7 - PROGRESS: at 3.90% examples, 1203691 words/s, in_qsize 7, out_qsize 0\n",
      "2020-09-14 20:24:28,511 : INFO : EPOCH 7 - PROGRESS: at 7.82% examples, 1207894 words/s, in_qsize 7, out_qsize 0\n",
      "2020-09-14 20:24:29,518 : INFO : EPOCH 7 - PROGRESS: at 11.21% examples, 1204958 words/s, in_qsize 7, out_qsize 0\n",
      "2020-09-14 20:24:30,525 : INFO : EPOCH 7 - PROGRESS: at 14.46% examples, 1189103 words/s, in_qsize 7, out_qsize 0\n",
      "2020-09-14 20:24:31,532 : INFO : EPOCH 7 - PROGRESS: at 17.54% examples, 1169252 words/s, in_qsize 7, out_qsize 0\n",
      "2020-09-14 20:24:32,532 : INFO : EPOCH 7 - PROGRESS: at 20.36% examples, 1153474 words/s, in_qsize 7, out_qsize 0\n"
     ]
    },
    {
     "name": "stderr",
     "output_type": "stream",
     "text": [
      "2020-09-14 20:24:33,536 : INFO : EPOCH 7 - PROGRESS: at 23.54% examples, 1148071 words/s, in_qsize 7, out_qsize 0\n",
      "2020-09-14 20:24:34,539 : INFO : EPOCH 7 - PROGRESS: at 27.54% examples, 1153748 words/s, in_qsize 7, out_qsize 0\n",
      "2020-09-14 20:24:35,540 : INFO : EPOCH 7 - PROGRESS: at 31.91% examples, 1157678 words/s, in_qsize 7, out_qsize 0\n",
      "2020-09-14 20:24:36,545 : INFO : EPOCH 7 - PROGRESS: at 35.91% examples, 1159731 words/s, in_qsize 7, out_qsize 0\n",
      "2020-09-14 20:24:37,552 : INFO : EPOCH 7 - PROGRESS: at 40.25% examples, 1164168 words/s, in_qsize 7, out_qsize 0\n",
      "2020-09-14 20:24:38,554 : INFO : EPOCH 7 - PROGRESS: at 44.73% examples, 1168518 words/s, in_qsize 7, out_qsize 0\n",
      "2020-09-14 20:24:39,556 : INFO : EPOCH 7 - PROGRESS: at 48.87% examples, 1169892 words/s, in_qsize 7, out_qsize 0\n",
      "2020-09-14 20:24:40,558 : INFO : EPOCH 7 - PROGRESS: at 52.89% examples, 1171891 words/s, in_qsize 7, out_qsize 0\n",
      "2020-09-14 20:24:41,562 : INFO : EPOCH 7 - PROGRESS: at 57.03% examples, 1172963 words/s, in_qsize 7, out_qsize 0\n",
      "2020-09-14 20:24:42,568 : INFO : EPOCH 7 - PROGRESS: at 61.22% examples, 1175220 words/s, in_qsize 7, out_qsize 0\n",
      "2020-09-14 20:24:43,574 : INFO : EPOCH 7 - PROGRESS: at 65.48% examples, 1176117 words/s, in_qsize 7, out_qsize 0\n",
      "2020-09-14 20:24:44,577 : INFO : EPOCH 7 - PROGRESS: at 69.47% examples, 1177568 words/s, in_qsize 7, out_qsize 0\n",
      "2020-09-14 20:24:45,578 : INFO : EPOCH 7 - PROGRESS: at 73.64% examples, 1180074 words/s, in_qsize 7, out_qsize 0\n",
      "2020-09-14 20:24:46,584 : INFO : EPOCH 7 - PROGRESS: at 77.46% examples, 1181179 words/s, in_qsize 7, out_qsize 0\n",
      "2020-09-14 20:24:47,587 : INFO : EPOCH 7 - PROGRESS: at 81.37% examples, 1182303 words/s, in_qsize 7, out_qsize 0\n",
      "2020-09-14 20:24:48,592 : INFO : EPOCH 7 - PROGRESS: at 85.31% examples, 1183245 words/s, in_qsize 7, out_qsize 0\n",
      "2020-09-14 20:24:49,603 : INFO : EPOCH 7 - PROGRESS: at 89.68% examples, 1184552 words/s, in_qsize 7, out_qsize 0\n",
      "2020-09-14 20:24:50,607 : INFO : EPOCH 7 - PROGRESS: at 93.85% examples, 1185466 words/s, in_qsize 7, out_qsize 0\n",
      "2020-09-14 20:24:51,607 : INFO : EPOCH 7 - PROGRESS: at 98.06% examples, 1187111 words/s, in_qsize 7, out_qsize 0\n",
      "2020-09-14 20:24:52,044 : INFO : worker thread finished; awaiting finish of 3 more threads\n",
      "2020-09-14 20:24:52,047 : INFO : worker thread finished; awaiting finish of 2 more threads\n",
      "2020-09-14 20:24:52,052 : INFO : worker thread finished; awaiting finish of 1 more threads\n",
      "2020-09-14 20:24:52,053 : INFO : worker thread finished; awaiting finish of 0 more threads\n",
      "2020-09-14 20:24:52,053 : INFO : EPOCH - 7 : training on 41519358 raw words (30350494 effective words) took 25.5s, 1187999 effective words/s\n",
      "2020-09-14 20:24:53,062 : INFO : EPOCH 8 - PROGRESS: at 3.79% examples, 1169657 words/s, in_qsize 7, out_qsize 0\n",
      "2020-09-14 20:24:54,069 : INFO : EPOCH 8 - PROGRESS: at 7.75% examples, 1191970 words/s, in_qsize 7, out_qsize 0\n",
      "2020-09-14 20:24:55,077 : INFO : EPOCH 8 - PROGRESS: at 11.19% examples, 1198990 words/s, in_qsize 7, out_qsize 0\n",
      "2020-09-14 20:24:56,077 : INFO : EPOCH 8 - PROGRESS: at 14.60% examples, 1201028 words/s, in_qsize 7, out_qsize 0\n",
      "2020-09-14 20:24:57,084 : INFO : EPOCH 8 - PROGRESS: at 17.98% examples, 1201855 words/s, in_qsize 7, out_qsize 0\n",
      "2020-09-14 20:24:58,097 : INFO : EPOCH 8 - PROGRESS: at 21.48% examples, 1203785 words/s, in_qsize 7, out_qsize 0\n",
      "2020-09-14 20:24:59,106 : INFO : EPOCH 8 - PROGRESS: at 24.64% examples, 1204929 words/s, in_qsize 7, out_qsize 0\n",
      "2020-09-14 20:25:00,114 : INFO : EPOCH 8 - PROGRESS: at 29.10% examples, 1202861 words/s, in_qsize 7, out_qsize 0\n",
      "2020-09-14 20:25:01,123 : INFO : EPOCH 8 - PROGRESS: at 33.42% examples, 1202714 words/s, in_qsize 7, out_qsize 0\n",
      "2020-09-14 20:25:02,124 : INFO : EPOCH 8 - PROGRESS: at 37.55% examples, 1202771 words/s, in_qsize 7, out_qsize 0\n",
      "2020-09-14 20:25:03,126 : INFO : EPOCH 8 - PROGRESS: at 41.89% examples, 1200826 words/s, in_qsize 7, out_qsize 0\n",
      "2020-09-14 20:25:04,127 : INFO : EPOCH 8 - PROGRESS: at 46.24% examples, 1201539 words/s, in_qsize 7, out_qsize 0\n",
      "2020-09-14 20:25:05,128 : INFO : EPOCH 8 - PROGRESS: at 50.42% examples, 1202060 words/s, in_qsize 7, out_qsize 0\n",
      "2020-09-14 20:25:06,135 : INFO : EPOCH 8 - PROGRESS: at 54.32% examples, 1200474 words/s, in_qsize 7, out_qsize 0\n",
      "2020-09-14 20:25:07,136 : INFO : EPOCH 8 - PROGRESS: at 58.51% examples, 1200311 words/s, in_qsize 7, out_qsize 0\n",
      "2020-09-14 20:25:08,140 : INFO : EPOCH 8 - PROGRESS: at 62.68% examples, 1200102 words/s, in_qsize 7, out_qsize 0\n",
      "2020-09-14 20:25:09,148 : INFO : EPOCH 8 - PROGRESS: at 66.80% examples, 1198639 words/s, in_qsize 7, out_qsize 0\n",
      "2020-09-14 20:25:10,151 : INFO : EPOCH 8 - PROGRESS: at 70.85% examples, 1199874 words/s, in_qsize 7, out_qsize 0\n",
      "2020-09-14 20:25:11,152 : INFO : EPOCH 8 - PROGRESS: at 75.02% examples, 1200722 words/s, in_qsize 7, out_qsize 0\n",
      "2020-09-14 20:25:12,154 : INFO : EPOCH 8 - PROGRESS: at 78.84% examples, 1201345 words/s, in_qsize 7, out_qsize 0\n",
      "2020-09-14 20:25:13,157 : INFO : EPOCH 8 - PROGRESS: at 82.86% examples, 1201536 words/s, in_qsize 7, out_qsize 0\n",
      "2020-09-14 20:25:14,163 : INFO : EPOCH 8 - PROGRESS: at 86.92% examples, 1202514 words/s, in_qsize 7, out_qsize 0\n",
      "2020-09-14 20:25:15,166 : INFO : EPOCH 8 - PROGRESS: at 91.22% examples, 1202842 words/s, in_qsize 7, out_qsize 0\n",
      "2020-09-14 20:25:16,172 : INFO : EPOCH 8 - PROGRESS: at 95.41% examples, 1203231 words/s, in_qsize 7, out_qsize 0\n",
      "2020-09-14 20:25:17,184 : INFO : EPOCH 8 - PROGRESS: at 99.62% examples, 1203510 words/s, in_qsize 7, out_qsize 0\n",
      "2020-09-14 20:25:17,251 : INFO : worker thread finished; awaiting finish of 3 more threads\n",
      "2020-09-14 20:25:17,255 : INFO : worker thread finished; awaiting finish of 2 more threads\n",
      "2020-09-14 20:25:17,261 : INFO : worker thread finished; awaiting finish of 1 more threads\n",
      "2020-09-14 20:25:17,262 : INFO : worker thread finished; awaiting finish of 0 more threads\n",
      "2020-09-14 20:25:17,262 : INFO : EPOCH - 8 : training on 41519358 raw words (30347188 effective words) took 25.2s, 1203932 effective words/s\n",
      "2020-09-14 20:25:18,265 : INFO : EPOCH 9 - PROGRESS: at 3.86% examples, 1196678 words/s, in_qsize 7, out_qsize 0\n",
      "2020-09-14 20:25:19,271 : INFO : EPOCH 9 - PROGRESS: at 7.77% examples, 1200084 words/s, in_qsize 7, out_qsize 0\n",
      "2020-09-14 20:25:20,284 : INFO : EPOCH 9 - PROGRESS: at 11.15% examples, 1194961 words/s, in_qsize 7, out_qsize 0\n",
      "2020-09-14 20:25:21,293 : INFO : EPOCH 9 - PROGRESS: at 14.60% examples, 1199126 words/s, in_qsize 7, out_qsize 0\n",
      "2020-09-14 20:25:22,294 : INFO : EPOCH 9 - PROGRESS: at 18.03% examples, 1204480 words/s, in_qsize 7, out_qsize 0\n",
      "2020-09-14 20:25:23,296 : INFO : EPOCH 9 - PROGRESS: at 21.52% examples, 1208406 words/s, in_qsize 7, out_qsize 0\n",
      "2020-09-14 20:25:24,302 : INFO : EPOCH 9 - PROGRESS: at 24.44% examples, 1196180 words/s, in_qsize 7, out_qsize 0\n",
      "2020-09-14 20:25:25,308 : INFO : EPOCH 9 - PROGRESS: at 28.72% examples, 1192886 words/s, in_qsize 6, out_qsize 1\n",
      "2020-09-14 20:25:26,311 : INFO : EPOCH 9 - PROGRESS: at 33.09% examples, 1195231 words/s, in_qsize 7, out_qsize 0\n",
      "2020-09-14 20:25:27,316 : INFO : EPOCH 9 - PROGRESS: at 37.18% examples, 1195154 words/s, in_qsize 7, out_qsize 0\n",
      "2020-09-14 20:25:28,316 : INFO : EPOCH 9 - PROGRESS: at 41.65% examples, 1197170 words/s, in_qsize 6, out_qsize 1\n",
      "2020-09-14 20:25:29,318 : INFO : EPOCH 9 - PROGRESS: at 46.03% examples, 1198117 words/s, in_qsize 7, out_qsize 0\n",
      "2020-09-14 20:25:30,320 : INFO : EPOCH 9 - PROGRESS: at 50.21% examples, 1198744 words/s, in_qsize 7, out_qsize 0\n",
      "2020-09-14 20:25:31,320 : INFO : EPOCH 9 - PROGRESS: at 54.18% examples, 1199380 words/s, in_qsize 7, out_qsize 0\n",
      "2020-09-14 20:25:32,321 : INFO : EPOCH 9 - PROGRESS: at 58.37% examples, 1199415 words/s, in_qsize 7, out_qsize 0\n",
      "2020-09-14 20:25:33,325 : INFO : EPOCH 9 - PROGRESS: at 62.54% examples, 1199658 words/s, in_qsize 7, out_qsize 0\n",
      "2020-09-14 20:25:34,327 : INFO : EPOCH 9 - PROGRESS: at 66.76% examples, 1200058 words/s, in_qsize 7, out_qsize 0\n",
      "2020-09-14 20:25:35,327 : INFO : EPOCH 9 - PROGRESS: at 70.72% examples, 1199729 words/s, in_qsize 7, out_qsize 0\n",
      "2020-09-14 20:25:36,334 : INFO : EPOCH 9 - PROGRESS: at 74.88% examples, 1199860 words/s, in_qsize 7, out_qsize 0\n",
      "2020-09-14 20:25:37,336 : INFO : EPOCH 9 - PROGRESS: at 78.58% examples, 1199112 words/s, in_qsize 7, out_qsize 0\n"
     ]
    },
    {
     "name": "stderr",
     "output_type": "stream",
     "text": [
      "2020-09-14 20:25:38,337 : INFO : EPOCH 9 - PROGRESS: at 82.53% examples, 1198859 words/s, in_qsize 7, out_qsize 0\n",
      "2020-09-14 20:25:39,339 : INFO : EPOCH 9 - PROGRESS: at 86.50% examples, 1199123 words/s, in_qsize 7, out_qsize 0\n",
      "2020-09-14 20:25:40,343 : INFO : EPOCH 9 - PROGRESS: at 90.86% examples, 1199896 words/s, in_qsize 7, out_qsize 0\n",
      "2020-09-14 20:25:41,346 : INFO : EPOCH 9 - PROGRESS: at 94.91% examples, 1199395 words/s, in_qsize 7, out_qsize 0\n",
      "2020-09-14 20:25:42,352 : INFO : EPOCH 9 - PROGRESS: at 99.13% examples, 1199842 words/s, in_qsize 7, out_qsize 0\n",
      "2020-09-14 20:25:42,537 : INFO : worker thread finished; awaiting finish of 3 more threads\n",
      "2020-09-14 20:25:42,545 : INFO : worker thread finished; awaiting finish of 2 more threads\n",
      "2020-09-14 20:25:42,549 : INFO : worker thread finished; awaiting finish of 1 more threads\n",
      "2020-09-14 20:25:42,553 : INFO : worker thread finished; awaiting finish of 0 more threads\n",
      "2020-09-14 20:25:42,554 : INFO : EPOCH - 9 : training on 41519358 raw words (30349377 effective words) took 25.3s, 1200076 effective words/s\n",
      "2020-09-14 20:25:43,559 : INFO : EPOCH 10 - PROGRESS: at 3.90% examples, 1202949 words/s, in_qsize 7, out_qsize 0\n",
      "2020-09-14 20:25:44,568 : INFO : EPOCH 10 - PROGRESS: at 7.85% examples, 1207560 words/s, in_qsize 7, out_qsize 0\n",
      "2020-09-14 20:25:45,572 : INFO : EPOCH 10 - PROGRESS: at 11.19% examples, 1201036 words/s, in_qsize 7, out_qsize 0\n",
      "2020-09-14 20:25:46,573 : INFO : EPOCH 10 - PROGRESS: at 14.58% examples, 1200907 words/s, in_qsize 7, out_qsize 0\n",
      "2020-09-14 20:25:47,576 : INFO : EPOCH 10 - PROGRESS: at 17.94% examples, 1200915 words/s, in_qsize 7, out_qsize 0\n",
      "2020-09-14 20:25:48,582 : INFO : EPOCH 10 - PROGRESS: at 21.06% examples, 1201544 words/s, in_qsize 7, out_qsize 0\n",
      "2020-09-14 20:25:49,587 : INFO : EPOCH 10 - PROGRESS: at 24.52% examples, 1202197 words/s, in_qsize 7, out_qsize 0\n",
      "2020-09-14 20:25:50,591 : INFO : EPOCH 10 - PROGRESS: at 28.99% examples, 1203001 words/s, in_qsize 7, out_qsize 0\n",
      "2020-09-14 20:25:51,595 : INFO : EPOCH 10 - PROGRESS: at 33.35% examples, 1204174 words/s, in_qsize 7, out_qsize 0\n",
      "2020-09-14 20:25:52,600 : INFO : EPOCH 10 - PROGRESS: at 37.53% examples, 1205223 words/s, in_qsize 7, out_qsize 0\n",
      "2020-09-14 20:25:53,612 : INFO : EPOCH 10 - PROGRESS: at 42.05% examples, 1206352 words/s, in_qsize 7, out_qsize 0\n",
      "2020-09-14 20:25:54,612 : INFO : EPOCH 10 - PROGRESS: at 46.36% examples, 1206157 words/s, in_qsize 7, out_qsize 0\n",
      "2020-09-14 20:25:55,617 : INFO : EPOCH 10 - PROGRESS: at 50.61% examples, 1207030 words/s, in_qsize 7, out_qsize 0\n",
      "2020-09-14 20:25:56,618 : INFO : EPOCH 10 - PROGRESS: at 54.49% examples, 1205624 words/s, in_qsize 7, out_qsize 0\n",
      "2020-09-14 20:25:57,618 : INFO : EPOCH 10 - PROGRESS: at 58.73% examples, 1205656 words/s, in_qsize 7, out_qsize 0\n",
      "2020-09-14 20:25:58,620 : INFO : EPOCH 10 - PROGRESS: at 62.89% examples, 1205771 words/s, in_qsize 7, out_qsize 0\n",
      "2020-09-14 20:25:59,620 : INFO : EPOCH 10 - PROGRESS: at 67.21% examples, 1207079 words/s, in_qsize 7, out_qsize 0\n",
      "2020-09-14 20:26:00,625 : INFO : EPOCH 10 - PROGRESS: at 71.13% examples, 1207002 words/s, in_qsize 7, out_qsize 0\n",
      "2020-09-14 20:26:01,632 : INFO : EPOCH 10 - PROGRESS: at 75.35% examples, 1207457 words/s, in_qsize 7, out_qsize 0\n",
      "2020-09-14 20:26:02,641 : INFO : EPOCH 10 - PROGRESS: at 79.21% examples, 1207714 words/s, in_qsize 7, out_qsize 0\n",
      "2020-09-14 20:26:03,649 : INFO : EPOCH 10 - PROGRESS: at 83.26% examples, 1208087 words/s, in_qsize 7, out_qsize 0\n",
      "2020-09-14 20:26:04,652 : INFO : EPOCH 10 - PROGRESS: at 87.26% examples, 1207623 words/s, in_qsize 7, out_qsize 0\n",
      "2020-09-14 20:26:05,655 : INFO : EPOCH 10 - PROGRESS: at 91.58% examples, 1208002 words/s, in_qsize 7, out_qsize 0\n",
      "2020-09-14 20:26:06,656 : INFO : EPOCH 10 - PROGRESS: at 95.73% examples, 1208197 words/s, in_qsize 7, out_qsize 0\n",
      "2020-09-14 20:26:07,658 : INFO : EPOCH 10 - PROGRESS: at 99.93% examples, 1208467 words/s, in_qsize 3, out_qsize 1\n",
      "2020-09-14 20:26:07,658 : INFO : worker thread finished; awaiting finish of 3 more threads\n",
      "2020-09-14 20:26:07,665 : INFO : worker thread finished; awaiting finish of 2 more threads\n",
      "2020-09-14 20:26:07,665 : INFO : worker thread finished; awaiting finish of 1 more threads\n",
      "2020-09-14 20:26:07,666 : INFO : worker thread finished; awaiting finish of 0 more threads\n",
      "2020-09-14 20:26:07,666 : INFO : EPOCH - 10 : training on 41519358 raw words (30352529 effective words) took 25.1s, 1208781 effective words/s\n",
      "2020-09-14 20:26:07,667 : INFO : training on a 415193580 raw words (303488934 effective words) took 252.9s, 1200145 effective words/s\n"
     ]
    },
    {
     "data": {
      "text/plain": [
       "(303488934, 415193580)"
      ]
     },
     "execution_count": 10,
     "metadata": {},
     "output_type": "execute_result"
    }
   ],
   "source": [
    "# Instantiate the model\n",
    "model = gensim.models.Word2Vec(documents,\n",
    "                               size = 150, \n",
    "                               window = 10, \n",
    "                               min_count = 2, \n",
    "                               workers = 4)\n",
    "# documents is the list of tokenized reviews\n",
    "# size sets the dimensionaility of the word vectors\n",
    "# window sets distance between current word and furthest related word\n",
    "# min_count ignores words with frequency less than this -> kinda like a stopword removal\n",
    "# threading\n",
    "\n",
    "model.train(documents, total_examples = len(documents), epochs = 10)"
   ]
  },
  {
   "cell_type": "code",
   "execution_count": 11,
   "metadata": {},
   "outputs": [
    {
     "name": "stderr",
     "output_type": "stream",
     "text": [
      "2020-09-14 20:27:24,155 : INFO : saving Word2Vec object under checkpoint_model, separately None\n",
      "2020-09-14 20:27:24,156 : INFO : storing np array 'vectors' to checkpoint_model.wv.vectors.npy\n",
      "2020-09-14 20:27:24,483 : INFO : not storing attribute vectors_norm\n",
      "2020-09-14 20:27:24,484 : INFO : storing np array 'syn1neg' to checkpoint_model.trainables.syn1neg.npy\n",
      "2020-09-14 20:27:24,769 : INFO : not storing attribute cum_table\n",
      "2020-09-14 20:27:24,863 : INFO : saved checkpoint_model\n"
     ]
    }
   ],
   "source": [
    "model.save('checkpoint_model')"
   ]
  },
  {
   "cell_type": "code",
   "execution_count": 12,
   "metadata": {},
   "outputs": [
    {
     "name": "stderr",
     "output_type": "stream",
     "text": [
      "2020-09-14 20:28:27,160 : INFO : loading Word2Vec object from ./checkpoint_model\n",
      "2020-09-14 20:28:27,924 : INFO : loading wv recursively from ./checkpoint_model.wv.* with mmap=None\n",
      "2020-09-14 20:28:27,925 : INFO : loading vectors from ./checkpoint_model.wv.vectors.npy with mmap=None\n",
      "2020-09-14 20:28:27,943 : INFO : setting ignored attribute vectors_norm to None\n",
      "2020-09-14 20:28:27,944 : INFO : loading vocabulary recursively from ./checkpoint_model.vocabulary.* with mmap=None\n",
      "2020-09-14 20:28:27,945 : INFO : loading trainables recursively from ./checkpoint_model.trainables.* with mmap=None\n",
      "2020-09-14 20:28:27,945 : INFO : loading syn1neg from ./checkpoint_model.trainables.syn1neg.npy with mmap=None\n",
      "2020-09-14 20:28:27,963 : INFO : setting ignored attribute cum_table to None\n",
      "2020-09-14 20:28:27,963 : INFO : loaded ./checkpoint_model\n"
     ]
    }
   ],
   "source": [
    "model = gensim.models.Word2Vec.load('./checkpoint_model')"
   ]
  },
  {
   "cell_type": "markdown",
   "metadata": {},
   "source": [
    "#### Try out the model"
   ]
  },
  {
   "cell_type": "code",
   "execution_count": 13,
   "metadata": {},
   "outputs": [
    {
     "name": "stderr",
     "output_type": "stream",
     "text": [
      "2020-09-14 20:29:24,891 : INFO : precomputing L2-norms of word weight vectors\n"
     ]
    },
    {
     "data": {
      "text/plain": [
       "[('filthy', 0.860991358757019),\n",
       " ('unclean', 0.7903048992156982),\n",
       " ('stained', 0.7750240564346313),\n",
       " ('dusty', 0.7661241292953491),\n",
       " ('smelly', 0.7600818872451782),\n",
       " ('grubby', 0.7487136721611023),\n",
       " ('grimy', 0.7442931532859802),\n",
       " ('disgusting', 0.7237786054611206),\n",
       " ('dingy', 0.7185878753662109),\n",
       " ('mouldy', 0.7172408699989319)]"
      ]
     },
     "execution_count": 13,
     "metadata": {},
     "output_type": "execute_result"
    }
   ],
   "source": [
    "word1 = 'dirty'\n",
    "model.wv.most_similar(positive = word1)"
   ]
  },
  {
   "cell_type": "code",
   "execution_count": 15,
   "metadata": {},
   "outputs": [
    {
     "data": {
      "text/plain": [
       "[('canada', 0.6960472464561462),\n",
       " ('germany', 0.6532061100006104),\n",
       " ('spain', 0.6287896633148193),\n",
       " ('england', 0.6194642782211304),\n",
       " ('hawaii', 0.6143192052841187),\n",
       " ('mexico', 0.6083465814590454),\n",
       " ('rome', 0.5898810625076294),\n",
       " ('greece', 0.5866472721099854),\n",
       " ('russia', 0.5860298871994019),\n",
       " ('gaulle', 0.5834230184555054)]"
      ]
     },
     "execution_count": 15,
     "metadata": {},
     "output_type": "execute_result"
    }
   ],
   "source": [
    "word2 = 'france'\n",
    "model.wv.most_similar(word2)"
   ]
  },
  {
   "cell_type": "code",
   "execution_count": 16,
   "metadata": {},
   "outputs": [
    {
     "data": {
      "text/plain": [
       "[('duvet', 0.7099647521972656),\n",
       " ('mattress', 0.6891525983810425),\n",
       " ('pillowcase', 0.6761701703071594),\n",
       " ('blanket', 0.6721630692481995),\n",
       " ('quilt', 0.6575330495834351),\n",
       " ('foam', 0.655534029006958),\n",
       " ('matress', 0.6552498936653137),\n",
       " ('sheets', 0.6460946798324585),\n",
       " ('pillows', 0.6417503356933594),\n",
       " ('quilts', 0.6067280769348145)]"
      ]
     },
     "execution_count": 16,
     "metadata": {},
     "output_type": "execute_result"
    }
   ],
   "source": [
    "pos = ['bed', 'sheet', 'pillow']\n",
    "neg = ['couch']\n",
    "model.wv.most_similar(positive=pos, negative = neg)"
   ]
  },
  {
   "cell_type": "code",
   "execution_count": 18,
   "metadata": {},
   "outputs": [
    {
     "data": {
      "text/plain": [
       "0.7600818"
      ]
     },
     "execution_count": 18,
     "metadata": {},
     "output_type": "execute_result"
    }
   ],
   "source": [
    "model.wv.similarity(w1 = 'dirty', w2 = 'smelly')"
   ]
  },
  {
   "cell_type": "code",
   "execution_count": 19,
   "metadata": {},
   "outputs": [
    {
     "data": {
      "text/plain": [
       "0.26938537"
      ]
     },
     "execution_count": 19,
     "metadata": {},
     "output_type": "execute_result"
    }
   ],
   "source": [
    "model.wv.similarity(w1 = 'dirty', w2 = 'clean')"
   ]
  },
  {
   "cell_type": "code",
   "execution_count": 22,
   "metadata": {},
   "outputs": [
    {
     "data": {
      "text/plain": [
       "'france'"
      ]
     },
     "execution_count": 22,
     "metadata": {},
     "output_type": "execute_result"
    }
   ],
   "source": [
    "model.wv.doesnt_match(['cat','dog','france'])"
   ]
  },
  {
   "cell_type": "code",
   "execution_count": 23,
   "metadata": {},
   "outputs": [
    {
     "data": {
      "text/plain": [
       "'shower'"
      ]
     },
     "execution_count": 23,
     "metadata": {},
     "output_type": "execute_result"
    }
   ],
   "source": [
    "model.wv.doesnt_match(['bed','pillow','duvet','shower'])"
   ]
  },
  {
   "cell_type": "code",
   "execution_count": null,
   "metadata": {},
   "outputs": [],
   "source": []
  }
 ],
 "metadata": {
  "kernelspec": {
   "display_name": "Python 3",
   "language": "python",
   "name": "python3"
  },
  "language_info": {
   "codemirror_mode": {
    "name": "ipython",
    "version": 3
   },
   "file_extension": ".py",
   "mimetype": "text/x-python",
   "name": "python",
   "nbconvert_exporter": "python",
   "pygments_lexer": "ipython3",
   "version": "3.8.3"
  }
 },
 "nbformat": 4,
 "nbformat_minor": 4
}
